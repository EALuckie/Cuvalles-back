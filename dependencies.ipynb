{
 "cells": [
  {
   "cell_type": "code",
   "execution_count": null,
   "metadata": {},
   "outputs": [],
   "source": [
    "#Installing packages\n",
    "\"\"\"\n",
    "By using the following command, you'll install\n",
    "all packages including UVICORN.\n",
    "\"\"\"\n",
    "!pip install \"fastapi[all]\"\n",
    "!pip install \"python-jose[cryptography]\"\n",
    "!pip install \"passlib[bcrypt]\"\n",
    "!pip install pymysql\n",
    "!pip install PyJWT\n",
    "!pip install python-decouple"
   ]
  }
 ],
 "metadata": {
  "language_info": {
   "name": "python"
  },
  "orig_nbformat": 4
 },
 "nbformat": 4,
 "nbformat_minor": 2
}
